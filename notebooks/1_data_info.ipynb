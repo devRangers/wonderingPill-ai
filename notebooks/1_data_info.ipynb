{
 "cells": [
  {
   "cell_type": "code",
   "execution_count": 1,
   "metadata": {},
   "outputs": [],
   "source": [
    "import pandas as pd"
   ]
  },
  {
   "cell_type": "code",
   "execution_count": 3,
   "metadata": {},
   "outputs": [
    {
     "data": {
      "text/html": [
       "<div>\n",
       "<style scoped>\n",
       "    .dataframe tbody tr th:only-of-type {\n",
       "        vertical-align: middle;\n",
       "    }\n",
       "\n",
       "    .dataframe tbody tr th {\n",
       "        vertical-align: top;\n",
       "    }\n",
       "\n",
       "    .dataframe thead th {\n",
       "        text-align: right;\n",
       "    }\n",
       "</style>\n",
       "<table border=\"1\" class=\"dataframe\">\n",
       "  <thead>\n",
       "    <tr style=\"text-align: right;\">\n",
       "      <th></th>\n",
       "      <th>품목일련번호</th>\n",
       "      <th>품목명</th>\n",
       "      <th>업소일련번호</th>\n",
       "      <th>업소명</th>\n",
       "      <th>성상</th>\n",
       "      <th>큰제품이미지</th>\n",
       "      <th>표시앞</th>\n",
       "      <th>표시뒤</th>\n",
       "      <th>의약품제형</th>\n",
       "      <th>색상앞</th>\n",
       "      <th>...</th>\n",
       "      <th>품목허가일자</th>\n",
       "      <th>제형코드명</th>\n",
       "      <th>표기내용앞</th>\n",
       "      <th>표기내용뒤</th>\n",
       "      <th>표기이미지앞</th>\n",
       "      <th>표기이미지뒤</th>\n",
       "      <th>표기코드앞</th>\n",
       "      <th>표기코드뒤</th>\n",
       "      <th>변경일자</th>\n",
       "      <th>Unnamed: 29</th>\n",
       "    </tr>\n",
       "  </thead>\n",
       "  <tbody>\n",
       "    <tr>\n",
       "      <th>0</th>\n",
       "      <td>200808876</td>\n",
       "      <td>가스디알정50밀리그램(디메크로틴산마그네슘)</td>\n",
       "      <td>19540006</td>\n",
       "      <td>일동제약(주)</td>\n",
       "      <td>녹색의원형필름코팅정</td>\n",
       "      <td>https://nedrug.mfds.go.kr/pbp/cmn/itemImageDow...</td>\n",
       "      <td>IDG</td>\n",
       "      <td>-</td>\n",
       "      <td>원형</td>\n",
       "      <td>연두</td>\n",
       "      <td>...</td>\n",
       "      <td>20080820</td>\n",
       "      <td>당의정</td>\n",
       "      <td>-</td>\n",
       "      <td>-</td>\n",
       "      <td>-</td>\n",
       "      <td>-</td>\n",
       "      <td>-</td>\n",
       "      <td>-</td>\n",
       "      <td>-</td>\n",
       "      <td>NaN</td>\n",
       "    </tr>\n",
       "  </tbody>\n",
       "</table>\n",
       "<p>1 rows × 30 columns</p>\n",
       "</div>"
      ],
      "text/plain": [
       "      품목일련번호                      품목명    업소일련번호      업소명          성상  \\\n",
       "0  200808876  가스디알정50밀리그램(디메크로틴산마그네슘)  19540006  일동제약(주)  녹색의원형필름코팅정   \n",
       "\n",
       "                                              큰제품이미지  표시앞 표시뒤 의약품제형 색상앞  ...  \\\n",
       "0  https://nedrug.mfds.go.kr/pbp/cmn/itemImageDow...  IDG   -    원형  연두  ...   \n",
       "\n",
       "     품목허가일자 제형코드명 표기내용앞 표기내용뒤 표기이미지앞 표기이미지뒤  표기코드앞 표기코드뒤 변경일자 Unnamed: 29  \n",
       "0  20080820   당의정     -     -      -      -      -     -    -         NaN  \n",
       "\n",
       "[1 rows x 30 columns]"
      ]
     },
     "execution_count": 3,
     "metadata": {},
     "output_type": "execute_result"
    }
   ],
   "source": [
    "pill_df = pd.read_csv(\"../data/pills_data.csv\")\n",
    "pill_df.head(1)"
   ]
  },
  {
   "cell_type": "code",
   "execution_count": 8,
   "metadata": {},
   "outputs": [
    {
     "data": {
      "text/plain": [
       "Index(['품목일련번호', '품목명', '업소일련번호', '업소명', '성상', '큰제품이미지', '표시앞', '표시뒤', '의약품제형',\n",
       "       '색상앞', '색상뒤', '분할선앞', '분할선뒤', '크기장축', '크기단축', '크기두께', '이미지생성일자(약학정보원)',\n",
       "       '분류번호', '분류명', '전문일반구분', '품목허가일자', '제형코드명', '표기내용앞', '표기내용뒤', '표기이미지앞',\n",
       "       '표기이미지뒤', '표기코드앞', '표기코드뒤', '변경일자', 'Unnamed: 29'],\n",
       "      dtype='object')"
      ]
     },
     "execution_count": 8,
     "metadata": {},
     "output_type": "execute_result"
    }
   ],
   "source": [
    "pill_df.columns"
   ]
  },
  {
   "cell_type": "code",
   "execution_count": 4,
   "metadata": {},
   "outputs": [
    {
     "name": "stdout",
     "output_type": "stream",
     "text": [
      "<class 'pandas.core.frame.DataFrame'>\n",
      "RangeIndex: 24590 entries, 0 to 24589\n",
      "Data columns (total 30 columns):\n",
      " #   Column          Non-Null Count  Dtype  \n",
      "---  ------          --------------  -----  \n",
      " 0   품목일련번호          24590 non-null  int64  \n",
      " 1   품목명             24590 non-null  object \n",
      " 2   업소일련번호          24590 non-null  int64  \n",
      " 3   업소명             24590 non-null  object \n",
      " 4   성상              24590 non-null  object \n",
      " 5   큰제품이미지          24590 non-null  object \n",
      " 6   표시앞             24589 non-null  object \n",
      " 7   표시뒤             24588 non-null  object \n",
      " 8   의약품제형           24590 non-null  object \n",
      " 9   색상앞             24590 non-null  object \n",
      " 10  색상뒤             24590 non-null  object \n",
      " 11  분할선앞            24590 non-null  object \n",
      " 12  분할선뒤            24590 non-null  object \n",
      " 13  크기장축            24590 non-null  object \n",
      " 14  크기단축            24590 non-null  object \n",
      " 15  크기두께            24590 non-null  object \n",
      " 16  이미지생성일자(약학정보원)  24590 non-null  int64  \n",
      " 17  분류번호            24590 non-null  object \n",
      " 18  분류명             24590 non-null  object \n",
      " 19  전문일반구분          24590 non-null  object \n",
      " 20  품목허가일자          24590 non-null  int64  \n",
      " 21  제형코드명           24590 non-null  object \n",
      " 22  표기내용앞           24590 non-null  object \n",
      " 23  표기내용뒤           24590 non-null  object \n",
      " 24  표기이미지앞          24590 non-null  object \n",
      " 25  표기이미지뒤          24590 non-null  object \n",
      " 26  표기코드앞           24590 non-null  object \n",
      " 27  표기코드뒤           24590 non-null  object \n",
      " 28  변경일자            24590 non-null  object \n",
      " 29  Unnamed: 29     0 non-null      float64\n",
      "dtypes: float64(1), int64(4), object(25)\n",
      "memory usage: 5.6+ MB\n"
     ]
    }
   ],
   "source": [
    "pill_df.info()"
   ]
  },
  {
   "cell_type": "code",
   "execution_count": 5,
   "metadata": {},
   "outputs": [
    {
     "data": {
      "text/plain": [
       "원형      9841\n",
       "장방형     7299\n",
       "타원형     6074\n",
       "기타       502\n",
       "팔각형      263\n",
       "삼각형      243\n",
       "사각형      220\n",
       "오각형       69\n",
       "육각형       50\n",
       "마름모형      26\n",
       "반원형        3\n",
       "Name: 의약품제형, dtype: int64"
      ]
     },
     "execution_count": 5,
     "metadata": {},
     "output_type": "execute_result"
    }
   ],
   "source": [
    "pill_df[\"의약품제형\"].value_counts()"
   ]
  },
  {
   "cell_type": "code",
   "execution_count": 6,
   "metadata": {},
   "outputs": [
    {
     "data": {
      "text/plain": [
       "하양          9824\n",
       "노랑          3088\n",
       "분홍          2920\n",
       "주황          1920\n",
       "갈색          1504\n",
       "파랑          1313\n",
       "연두          1166\n",
       "초록           970\n",
       "빨강           599\n",
       "회색           201\n",
       "노랑|투명        149\n",
       "보라           121\n",
       "빨강|투명        100\n",
       "초록|투명         96\n",
       "파랑|투명         88\n",
       "검정            81\n",
       "주황|투명         80\n",
       "청록            77\n",
       "자주            65\n",
       "청록|투명         42\n",
       "남색            42\n",
       "하양|노랑         27\n",
       "투명            25\n",
       "갈색|투명         23\n",
       "보라|투명         19\n",
       "하양|투명         16\n",
       "하양|파랑          9\n",
       "분홍|투명          6\n",
       "하양|갈색          5\n",
       "연두|투명          4\n",
       "갈색|진한          1\n",
       "파랑|옅은          1\n",
       "남색|투명          1\n",
       "하양|초록          1\n",
       "하양|주황|투명       1\n",
       "하양|빨강          1\n",
       "분홍|진한          1\n",
       "분홍|옅은          1\n",
       "자주|투명          1\n",
       "검정|투명          1\n",
       "Name: 색상앞, dtype: int64"
      ]
     },
     "execution_count": 6,
     "metadata": {},
     "output_type": "execute_result"
    }
   ],
   "source": [
    "pill_df[\"색상앞\"].value_counts()"
   ]
  },
  {
   "cell_type": "code",
   "execution_count": 7,
   "metadata": {},
   "outputs": [
    {
     "data": {
      "text/plain": [
       "-           20471\n",
       "하양           1701\n",
       "노랑            867\n",
       "파랑            215\n",
       "연두            192\n",
       "초록            182\n",
       "분홍            175\n",
       "주황            165\n",
       "회색            141\n",
       "갈색            136\n",
       "빨강            116\n",
       "투명             43\n",
       "하양|투명          27\n",
       "노랑|옅은          20\n",
       "파랑|옅은          19\n",
       "분홍|투명          15\n",
       "주황|투명          15\n",
       "자주             14\n",
       "보라             10\n",
       "하양|파랑           8\n",
       "갈색|옅은           6\n",
       "하양|노랑           5\n",
       "청록              5\n",
       "남색              4\n",
       "회색|진한           4\n",
       "노랑|투명           4\n",
       "갈색|진한           4\n",
       "파랑|진한           3\n",
       "검정              3\n",
       "초록|투명           3\n",
       "청록|투명           2\n",
       "검정|투명           2\n",
       "분홍|옅은           2\n",
       "초록|옅은           1\n",
       "초록|진한           1\n",
       "연두|옅은           1\n",
       "자주|옅은           1\n",
       "갈색|투명           1\n",
       "주황|옅은           1\n",
       "청록|옅은           1\n",
       "자주|진한           1\n",
       "연두|진한           1\n",
       "하양|초록|투명        1\n",
       "노랑|진한           1\n",
       "Name: 색상뒤, dtype: int64"
      ]
     },
     "execution_count": 7,
     "metadata": {},
     "output_type": "execute_result"
    }
   ],
   "source": [
    "pill_df[\"색상뒤\"].value_counts()"
   ]
  },
  {
   "cell_type": "code",
   "execution_count": 9,
   "metadata": {},
   "outputs": [
    {
     "data": {
      "text/plain": [
       "마크          1531\n",
       "-            317\n",
       "D-W          110\n",
       "HT           101\n",
       "YH            96\n",
       "            ... \n",
       "DKPAZ          1\n",
       "CPK21          1\n",
       "XT             1\n",
       "CHO-ACCN       1\n",
       "SKDEX          1\n",
       "Name: 표시앞, Length: 13136, dtype: int64"
      ]
     },
     "execution_count": 9,
     "metadata": {},
     "output_type": "execute_result"
    }
   ],
   "source": [
    "pill_df[\"표시앞\"].value_counts()"
   ]
  },
  {
   "cell_type": "code",
   "execution_count": 10,
   "metadata": {},
   "outputs": [
    {
     "data": {
      "text/plain": [
       "-        12132\n",
       "분할선       1765\n",
       "마크         586\n",
       "10         357\n",
       "5          291\n",
       "         ...  \n",
       "마크PF         1\n",
       "IT100        1\n",
       "MIP          1\n",
       "T4분할선        1\n",
       "C6           1\n",
       "Name: 표시뒤, Length: 2966, dtype: int64"
      ]
     },
     "execution_count": 10,
     "metadata": {},
     "output_type": "execute_result"
    }
   ],
   "source": [
    "pill_df[\"표시뒤\"].value_counts()"
   ]
  },
  {
   "cell_type": "code",
   "execution_count": null,
   "metadata": {},
   "outputs": [],
   "source": []
  }
 ],
 "metadata": {
  "kernelspec": {
   "display_name": "Python 3.10.2 64-bit",
   "language": "python",
   "name": "python3"
  },
  "language_info": {
   "codemirror_mode": {
    "name": "ipython",
    "version": 3
   },
   "file_extension": ".py",
   "mimetype": "text/x-python",
   "name": "python",
   "nbconvert_exporter": "python",
   "pygments_lexer": "ipython3",
   "version": "3.10.2"
  },
  "orig_nbformat": 4,
  "vscode": {
   "interpreter": {
    "hash": "369f2c481f4da34e4445cda3fffd2e751bd1c4d706f27375911949ba6bb62e1c"
   }
  }
 },
 "nbformat": 4,
 "nbformat_minor": 2
}
